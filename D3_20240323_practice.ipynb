{
  "nbformat": 4,
  "nbformat_minor": 0,
  "metadata": {
    "colab": {
      "provenance": [],
      "authorship_tag": "ABX9TyMNzadDzJUlpUPo8kHhQMKS",
      "include_colab_link": true
    },
    "kernelspec": {
      "name": "python3",
      "display_name": "Python 3"
    },
    "language_info": {
      "name": "python"
    }
  },
  "cells": [
    {
      "cell_type": "markdown",
      "metadata": {
        "id": "view-in-github",
        "colab_type": "text"
      },
      "source": [
        "<a href=\"https://colab.research.google.com/github/rensetiawanren/dibimbing-DSF-DS-25.0_Jupyter-Notebook/blob/main/D3_20240323_practice.ipynb\" target=\"_parent\"><img src=\"https://colab.research.google.com/assets/colab-badge.svg\" alt=\"Open In Colab\"/></a>"
      ]
    },
    {
      "cell_type": "markdown",
      "source": [
        "# **PRACTICE | D3 [20240323] - Introduction to Python**"
      ],
      "metadata": {
        "id": "HzK8VVeBJ9kI"
      }
    },
    {
      "cell_type": "markdown",
      "source": [
        "## 0. Intro"
      ],
      "metadata": {
        "id": "MW5uKrWnJ_-B"
      }
    },
    {
      "cell_type": "code",
      "execution_count": null,
      "metadata": {
        "colab": {
          "base_uri": "https://localhost:8080/"
        },
        "id": "AdziUnrqIzYz",
        "outputId": "bd6bdccf-b0d3-4c70-c921-3dc6b0256a20"
      },
      "outputs": [
        {
          "output_type": "stream",
          "name": "stdout",
          "text": [
            "Hello World!\n"
          ]
        }
      ],
      "source": [
        "print(\"Hello World!\")"
      ]
    },
    {
      "cell_type": "markdown",
      "source": [
        "\n",
        "\n",
        "---\n",
        "\n"
      ],
      "metadata": {
        "id": "Lc37yZJKaoEB"
      }
    },
    {
      "cell_type": "markdown",
      "source": [
        "## 1. Function"
      ],
      "metadata": {
        "id": "UR14uNNtL5yX"
      }
    },
    {
      "cell_type": "code",
      "source": [
        "def greet(name: object) -> object:\n",
        "    \"\"\"This function greets a person by name.\"\"\"\n",
        "    print(\"Hello, \" + name + \"!\")\n",
        "\n",
        "# Call the greet function with a name\n",
        "greet(\"Rendy\")"
      ],
      "metadata": {
        "colab": {
          "base_uri": "https://localhost:8080/"
        },
        "id": "6dKvObK8MIw7",
        "outputId": "0f657dbf-0ba2-446f-f1bc-91569482f6e8"
      },
      "execution_count": null,
      "outputs": [
        {
          "output_type": "stream",
          "name": "stdout",
          "text": [
            "Hello, Rendy!\n"
          ]
        }
      ]
    },
    {
      "cell_type": "markdown",
      "source": [
        "\n",
        "\n",
        "---\n",
        "\n"
      ],
      "metadata": {
        "id": "tyYALcrvacI0"
      }
    },
    {
      "cell_type": "markdown",
      "source": [
        "## 2. Data Type"
      ],
      "metadata": {
        "id": "noSHUkhMMLst"
      }
    },
    {
      "cell_type": "code",
      "source": [
        "# Numeric data types\n",
        "age = 30  # Integer (int)\n",
        "price = 19.99  # Float (float)\n",
        "\n",
        "# Textual data type\n",
        "name = \"Amanda\"  # String (str)\n",
        "\n",
        "# Boolean data type\n",
        "is_registered = True  # Boolean (bool)\n",
        "\n",
        "# Collection data types\n",
        "fruits = [\"apple\", \"cherry\", \"lime\"]  # List (list)\n",
        "customer = {  # Dictionary (dict)\n",
        "    \"name\": \"Rendy\",\n",
        "    \"age\": 30,\n",
        "    \"city\": \"New York\"\n",
        "}\n",
        "\n",
        "# Accessing elements in collections\n",
        "first_fruit = fruits[0]  # Accessing first element in list\n",
        "customer_name = customer[\"name\"]  # Accessing value by key in dictionary\n",
        "\n",
        "# Printing data and data types\n",
        "print(\"Age:\", age, \" (type:\", type(age), \")\")\n",
        "print(\"Price:\", price, \" (type:\", type(price), \")\")\n",
        "print(\"Name:\", name, \" (type:\", type(name), \")\")\n",
        "print(\"Registered:\", is_registered, \" (type:\", type(is_registered), \")\")\n",
        "print(\"First fruit:\", first_fruit)\n",
        "print(\"Customer name:\", customer_name)"
      ],
      "metadata": {
        "colab": {
          "base_uri": "https://localhost:8080/"
        },
        "id": "0EaT1ZDqMP2Q",
        "outputId": "584e3f8d-26e5-4ec2-9607-fbaa10ac97ef"
      },
      "execution_count": null,
      "outputs": [
        {
          "output_type": "stream",
          "name": "stdout",
          "text": [
            "Age: 30  (type: <class 'int'> )\n",
            "Price: 19.99  (type: <class 'float'> )\n",
            "Name: Amanda  (type: <class 'str'> )\n",
            "Registered: True  (type: <class 'bool'> )\n",
            "First fruit: apple\n",
            "Customer name: Rendy\n"
          ]
        }
      ]
    },
    {
      "cell_type": "markdown",
      "source": [
        "\n",
        "\n",
        "---\n",
        "\n"
      ],
      "metadata": {
        "id": "43C5eC7kaeAB"
      }
    },
    {
      "cell_type": "markdown",
      "source": [
        "## 3. Variables"
      ],
      "metadata": {
        "id": "mLoZZ5m-NDXO"
      }
    },
    {
      "cell_type": "code",
      "source": [
        "# String variable\n",
        "name = \"Amanda\"\n",
        "\n",
        "# Integer variable\n",
        "age = 30\n",
        "\n",
        "# Float variable (decimal number)\n",
        "height = 1.75\n",
        "\n",
        "# Boolean variable (True or False)\n",
        "is_happy = True\n",
        "\n",
        "# Print the variables\n",
        "print(\"Name:\", name)\n",
        "print(\"Age:\", age)\n",
        "print(\"Height (in meters):\", height)\n",
        "print(\"Is happy:\", is_happy)"
      ],
      "metadata": {
        "colab": {
          "base_uri": "https://localhost:8080/"
        },
        "id": "jCGdBJbANHRw",
        "outputId": "6b9f8509-ea79-4f4e-f504-d892878616a7"
      },
      "execution_count": null,
      "outputs": [
        {
          "output_type": "stream",
          "name": "stdout",
          "text": [
            "Name: Amanda\n",
            "Age: 30\n",
            "Height (in meters): 1.75\n",
            "Is happy: True\n"
          ]
        }
      ]
    },
    {
      "cell_type": "markdown",
      "source": [
        "## 4. Arithmetic Operators"
      ],
      "metadata": {
        "id": "IktlKfZDNN2T"
      }
    },
    {
      "cell_type": "markdown",
      "source": [
        "a. Addition"
      ],
      "metadata": {
        "id": "9PXWI-sJNR5z"
      }
    },
    {
      "cell_type": "code",
      "source": [
        "# Get two numbers from the user\n",
        "num1 = float(input(\"Enter the first number= \"))\n",
        "num2 = float(input(\"Enter the second number= \"))\n",
        "\n",
        "# Perform Arithmetic Operation - Addition\n",
        "sum = num1 + num2\n",
        "\n",
        "# Print the results\n",
        "print(\"Sum:\", sum)"
      ],
      "metadata": {
        "colab": {
          "base_uri": "https://localhost:8080/"
        },
        "id": "rra-M0jDNVWP",
        "outputId": "6bf8c0a9-165b-40ff-854c-3429da028b32"
      },
      "execution_count": null,
      "outputs": [
        {
          "output_type": "stream",
          "name": "stdout",
          "text": [
            "Enter the first number= 23\n",
            "Enter the second number= 11\n",
            "Sum: 34.0\n"
          ]
        }
      ]
    },
    {
      "cell_type": "markdown",
      "source": [
        "b. Substraction"
      ],
      "metadata": {
        "id": "jqPoa3Lgardx"
      }
    },
    {
      "cell_type": "code",
      "source": [
        "# Get two numbers from the user\n",
        "num1 = float(input(\"Enter the first number= \"))\n",
        "num2 = float(input(\"Enter the second number= \"))\n",
        "\n",
        "# Perform Arithmetic Operation - Substraction\n",
        "difference = num1 - num2\n",
        "\n",
        "# Print the results\n",
        "print(\"Difference:\", difference)"
      ],
      "metadata": {
        "colab": {
          "base_uri": "https://localhost:8080/"
        },
        "id": "At7yisUAawZ6",
        "outputId": "606c4f88-2945-4cd8-b117-7a0468902026"
      },
      "execution_count": null,
      "outputs": [
        {
          "output_type": "stream",
          "name": "stdout",
          "text": [
            "Enter the first number= 7\n",
            "Enter the second number= 5\n",
            "Difference: 2.0\n"
          ]
        }
      ]
    },
    {
      "cell_type": "markdown",
      "source": [
        "c. Multiplication"
      ],
      "metadata": {
        "id": "A3y8BaaxdMKP"
      }
    },
    {
      "cell_type": "code",
      "source": [
        "# Get two numbers from the user\n",
        "num1 = float(input(\"Enter the first number= \"))\n",
        "num2 = float(input(\"Enter the second number= \"))\n",
        "\n",
        "# Perform Arithmetic Operation - Multiplication\n",
        "product = num1 * num2\n",
        "\n",
        "# Print the results\n",
        "print(\"Product:\", product)"
      ],
      "metadata": {
        "colab": {
          "base_uri": "https://localhost:8080/"
        },
        "id": "FTDzmkTPdNlK",
        "outputId": "cc7e25ac-51df-433a-efea-9414e1ab163a"
      },
      "execution_count": null,
      "outputs": [
        {
          "output_type": "stream",
          "name": "stdout",
          "text": [
            "Enter the first number= 4\n",
            "Enter the second number= 5\n",
            "Product: 20.0\n"
          ]
        }
      ]
    },
    {
      "cell_type": "markdown",
      "source": [
        "d. Division"
      ],
      "metadata": {
        "id": "7lQSjtq1dlV8"
      }
    },
    {
      "cell_type": "code",
      "source": [
        "# Get two numbers from the user\n",
        "num1 = float(input(\"Enter the first number= \"))\n",
        "num2 = float(input(\"Enter the second number= \"))\n",
        "\n",
        "# Perform Arithmetic Operation - Division\n",
        "division = num1 / num2\n",
        "\n",
        "# Print the results\n",
        "print(\"Division:\", division)"
      ],
      "metadata": {
        "colab": {
          "base_uri": "https://localhost:8080/"
        },
        "id": "wSt2BJUCdmBZ",
        "outputId": "98e98c2e-a8a5-4d14-c5bb-f5c99af7f4df"
      },
      "execution_count": null,
      "outputs": [
        {
          "output_type": "stream",
          "name": "stdout",
          "text": [
            "Enter the first number= 12\n",
            "Enter the second number= 3\n",
            "Division: 4.0\n"
          ]
        }
      ]
    },
    {
      "cell_type": "markdown",
      "source": [
        "e. Modulo"
      ],
      "metadata": {
        "id": "U1HrchOKdusU"
      }
    },
    {
      "cell_type": "code",
      "source": [
        "# Get two numbers from the user\n",
        "num1 = float(input(\"Enter the first number= \"))\n",
        "num2 = float(input(\"Enter the second number= \"))\n",
        "\n",
        "# Perform Arithmetic Operation - Modulo (remainder)\n",
        "remainder = num1 % num2\n",
        "\n",
        "# Print the results\n",
        "print(\"Remainder:\", remainder)"
      ],
      "metadata": {
        "colab": {
          "base_uri": "https://localhost:8080/"
        },
        "id": "NyaFUWgpdvvF",
        "outputId": "ad754cdd-4dde-4304-b0bf-ea187307c708"
      },
      "execution_count": null,
      "outputs": [
        {
          "output_type": "stream",
          "name": "stdout",
          "text": [
            "Enter the first number= 24\n",
            "Enter the second number= 6\n",
            "Remainder: 0.0\n"
          ]
        }
      ]
    },
    {
      "cell_type": "markdown",
      "source": [
        "f. Exponentiation"
      ],
      "metadata": {
        "id": "yvzTws8ZeoNm"
      }
    },
    {
      "cell_type": "code",
      "source": [
        "# Get two numbers from the user\n",
        "num1 = float(input(\"Enter the first number= \"))\n",
        "num2 = float(input(\"Enter the second number= \"))\n",
        "\n",
        "# Perform Arithmetic Operation - Exponentiation (Power)\n",
        "power = num1 ** num2\n",
        "\n",
        "# Print the results\n",
        "print(\"Power:\", power)"
      ],
      "metadata": {
        "colab": {
          "base_uri": "https://localhost:8080/"
        },
        "id": "nbqRgx7repEO",
        "outputId": "124dc8b9-125b-479d-9932-09ce76485431"
      },
      "execution_count": null,
      "outputs": [
        {
          "output_type": "stream",
          "name": "stdout",
          "text": [
            "Enter the first number= 4\n",
            "Enter the second number= 2\n",
            "Power: 16.0\n"
          ]
        }
      ]
    },
    {
      "cell_type": "markdown",
      "source": [
        "g. Floor Division"
      ],
      "metadata": {
        "id": "4RZDfGBqfYQR"
      }
    },
    {
      "cell_type": "code",
      "source": [
        "# Get two numbers from the user\n",
        "num1 = float(input(\"Enter the first number= \"))\n",
        "num2 = float(input(\"Enter the second number= \"))\n",
        "\n",
        "# Perform Arithmetic Operation - Floor Division (integral Division)\n",
        "floor_division = num1 // num2\n",
        "\n",
        "# Print the results\n",
        "print(\"Floor Division:\", floor_division)"
      ],
      "metadata": {
        "colab": {
          "base_uri": "https://localhost:8080/"
        },
        "id": "wPx2tNp6fnf5",
        "outputId": "9bd8d560-24df-49bc-a34c-1b6433ae7843"
      },
      "execution_count": 6,
      "outputs": [
        {
          "output_type": "stream",
          "name": "stdout",
          "text": [
            "Enter the first number= 27\n",
            "Enter the second number= 3\n",
            "Floor Division: 9.0\n"
          ]
        }
      ]
    },
    {
      "cell_type": "markdown",
      "source": [
        "\n",
        "\n",
        "---\n",
        "\n"
      ],
      "metadata": {
        "id": "U5--pXB9gKF2"
      }
    },
    {
      "cell_type": "markdown",
      "source": [
        "## 5. Conditional"
      ],
      "metadata": {
        "id": "BHbqK7PWgLuP"
      }
    },
    {
      "cell_type": "markdown",
      "source": [
        "a. Same As"
      ],
      "metadata": {
        "id": "AzG4gcqugNOF"
      }
    },
    {
      "cell_type": "code",
      "source": [
        "age = 20\n",
        "if age >= 18:\n",
        "  adult = True\n",
        "else:\n",
        "  adult = False\n",
        "\n",
        "print(f\"Is adult: {adult}\")"
      ],
      "metadata": {
        "colab": {
          "base_uri": "https://localhost:8080/"
        },
        "id": "vVIyuV60gRWE",
        "outputId": "17358d3d-6b3f-41ad-f827-449fe0ab53f0"
      },
      "execution_count": 7,
      "outputs": [
        {
          "output_type": "stream",
          "name": "stdout",
          "text": [
            "Is adult: True\n"
          ]
        }
      ]
    },
    {
      "cell_type": "markdown",
      "source": [
        "b. Not The Same As"
      ],
      "metadata": {
        "id": "RrJmc2lFgWpV"
      }
    },
    {
      "cell_type": "code",
      "source": [
        "x = 5\n",
        "y = 10\n",
        "\n",
        "if x != y:\n",
        "    print(\"x and y are not equal\")\n",
        "else:\n",
        "    print(\"x and y are equal\")"
      ],
      "metadata": {
        "colab": {
          "base_uri": "https://localhost:8080/"
        },
        "id": "bWg6jpdTgbkL",
        "outputId": "fa816be0-5812-42da-95ce-bbdf79349a38"
      },
      "execution_count": 8,
      "outputs": [
        {
          "output_type": "stream",
          "name": "stdout",
          "text": [
            "x and y are not equal\n"
          ]
        }
      ]
    },
    {
      "cell_type": "markdown",
      "source": [
        "c. Less Than"
      ],
      "metadata": {
        "id": "Y04aqNLKghfz"
      }
    },
    {
      "cell_type": "code",
      "source": [
        "x = 10\n",
        "y = 5\n",
        "\n",
        "if x < y:\n",
        "  print(\"x is less than y\")\n",
        "else:\n",
        "  print(\"x is not less than y\")"
      ],
      "metadata": {
        "colab": {
          "base_uri": "https://localhost:8080/"
        },
        "id": "0jXI5M7rgiYp",
        "outputId": "b05c0142-1a4a-4fef-f4fc-95264eec0d7b"
      },
      "execution_count": 9,
      "outputs": [
        {
          "output_type": "stream",
          "name": "stdout",
          "text": [
            "x is not less than y\n"
          ]
        }
      ]
    },
    {
      "cell_type": "markdown",
      "source": [
        "d. Less Than Equal To"
      ],
      "metadata": {
        "id": "F_iKzMFigrXW"
      }
    },
    {
      "cell_type": "code",
      "source": [
        "x = 5\n",
        "y = 10\n",
        "\n",
        "if x <= y:\n",
        "  print(\"x is less than or equal to y\")\n",
        "else:\n",
        "  print(\"x is not less than or equal to y\")"
      ],
      "metadata": {
        "colab": {
          "base_uri": "https://localhost:8080/"
        },
        "id": "y20rMPODgsGn",
        "outputId": "d56531d2-3946-4b6b-e766-ed122e80599f"
      },
      "execution_count": 21,
      "outputs": [
        {
          "output_type": "stream",
          "name": "stdout",
          "text": [
            "x is less than or equal to y\n"
          ]
        }
      ]
    },
    {
      "cell_type": "markdown",
      "source": [
        "e. More Than"
      ],
      "metadata": {
        "id": "VvPyt1V_gwR_"
      }
    },
    {
      "cell_type": "code",
      "source": [
        "x = 10\n",
        "y = 5\n",
        "\n",
        "if x > y:\n",
        "  print(\"x is more than y\")\n",
        "else:\n",
        "  print(\"x is not more than y\")"
      ],
      "metadata": {
        "colab": {
          "base_uri": "https://localhost:8080/"
        },
        "id": "eHPN4iE7hLX4",
        "outputId": "bff0b6ed-b2a5-4902-dcab-74f98904e39a"
      },
      "execution_count": 19,
      "outputs": [
        {
          "output_type": "stream",
          "name": "stdout",
          "text": [
            "x is more than y\n"
          ]
        }
      ]
    },
    {
      "cell_type": "markdown",
      "source": [
        "f. More Than Equal To"
      ],
      "metadata": {
        "id": "Qf_dWG5QhVO5"
      }
    },
    {
      "cell_type": "code",
      "source": [
        "x = 15\n",
        "y = 10\n",
        "\n",
        "if x >= y:\n",
        "  print(\"x is more than or equal to y\")\n",
        "else:\n",
        "  print(\"x is not more than or equal to y\")"
      ],
      "metadata": {
        "colab": {
          "base_uri": "https://localhost:8080/"
        },
        "id": "DAhbz9p4hWOC",
        "outputId": "11392ebf-456e-4602-b3d0-85f0b0f4a7de"
      },
      "execution_count": 23,
      "outputs": [
        {
          "output_type": "stream",
          "name": "stdout",
          "text": [
            "x is more than or equal to y\n"
          ]
        }
      ]
    },
    {
      "cell_type": "markdown",
      "source": [
        "\n",
        "\n",
        "---\n",
        "\n"
      ],
      "metadata": {
        "id": "bGv1eUV7hYiY"
      }
    },
    {
      "cell_type": "markdown",
      "source": [
        "## 6. Statement"
      ],
      "metadata": {
        "id": "USI7GP2fhZqg"
      }
    },
    {
      "cell_type": "markdown",
      "source": [
        "a. And"
      ],
      "metadata": {
        "id": "1fdyBUcwhmfN"
      }
    },
    {
      "cell_type": "code",
      "source": [
        "a = 200\n",
        "b = 33\n",
        "c = 500\n",
        "if a > b and c > a:\n",
        "    print(\"Both condition are True\")"
      ],
      "metadata": {
        "colab": {
          "base_uri": "https://localhost:8080/"
        },
        "id": "X1L0B0euhnPd",
        "outputId": "a53481b0-62c2-416c-eee5-5bd60ad1222b"
      },
      "execution_count": 12,
      "outputs": [
        {
          "output_type": "stream",
          "name": "stdout",
          "text": [
            "Both condition are True\n"
          ]
        }
      ]
    },
    {
      "cell_type": "markdown",
      "source": [
        "b. Nested If"
      ],
      "metadata": {
        "id": "YcsKhC7uiUjg"
      }
    },
    {
      "cell_type": "code",
      "source": [
        "x = 41\n",
        "\n",
        "if x > 10:\n",
        "    print(\"Above ten,\")\n",
        "    if x > 20:\n",
        "        print(\"also above 20!\")\n",
        "    else:\n",
        "        print(\"but not above 20\")"
      ],
      "metadata": {
        "colab": {
          "base_uri": "https://localhost:8080/"
        },
        "id": "Tkt5qNtriWED",
        "outputId": "f2a0650b-d228-47f7-be79-adef1a9f96ba"
      },
      "execution_count": 13,
      "outputs": [
        {
          "output_type": "stream",
          "name": "stdout",
          "text": [
            "Above ten,\n",
            "also above 20!\n"
          ]
        }
      ]
    },
    {
      "cell_type": "markdown",
      "source": [
        "c. If"
      ],
      "metadata": {
        "id": "8Lz96poBid6Q"
      }
    },
    {
      "cell_type": "code",
      "source": [
        "a = 50\n",
        "b = 50\n",
        "\n",
        "if b > a:\n",
        "    print(\"b is greater than a\")\n",
        "elif a == b:\n",
        "    print(\"a and b are equal\")\n",
        "else:\n",
        "    print(\"a is greater than b\")"
      ],
      "metadata": {
        "colab": {
          "base_uri": "https://localhost:8080/"
        },
        "id": "Uj4lz0XQifU9",
        "outputId": "4c5c88af-4026-4204-b0ac-57198a14a2dd"
      },
      "execution_count": 14,
      "outputs": [
        {
          "output_type": "stream",
          "name": "stdout",
          "text": [
            "a and b are equal\n"
          ]
        }
      ]
    },
    {
      "cell_type": "markdown",
      "source": [
        "\n",
        "\n",
        "---\n",
        "\n"
      ],
      "metadata": {
        "id": "U7d8kxR8ionn"
      }
    }
  ]
}