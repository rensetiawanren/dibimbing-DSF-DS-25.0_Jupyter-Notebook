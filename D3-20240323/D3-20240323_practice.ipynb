{
  "nbformat": 4,
  "nbformat_minor": 0,
  "metadata": {
    "colab": {
      "provenance": [],
      "authorship_tag": "ABX9TyPuNtoOa5SdfBllac7j6RNf",
      "include_colab_link": true
    },
    "kernelspec": {
      "name": "python3",
      "display_name": "Python 3"
    },
    "language_info": {
      "name": "python"
    }
  },
  "cells": [
    {
      "cell_type": "markdown",
      "metadata": {
        "id": "view-in-github",
        "colab_type": "text"
      },
      "source": [
        "<a href=\"https://colab.research.google.com/github/rensetiawanren/dibimbing-DSF-DS-25.0_Jupyter-Notebook/blob/main/D3_20240323_practice.ipynb\" target=\"_parent\"><img src=\"https://colab.research.google.com/assets/colab-badge.svg\" alt=\"Open In Colab\"/></a>"
      ]
    },
    {
      "cell_type": "markdown",
      "source": [
        "# **PRACTICE | D3 [20240323] - Introduction to Python**"
      ],
      "metadata": {
        "id": "D0NwAOLBN5cq"
      }
    },
    {
      "cell_type": "markdown",
      "source": [
        "## 0. Intro"
      ],
      "metadata": {
        "id": "laNXL8PwOKiL"
      }
    },
    {
      "cell_type": "markdown",
      "source": [
        "Intro"
      ],
      "metadata": {
        "id": "eH0xg7RXPmLI"
      }
    },
    {
      "cell_type": "code",
      "execution_count": null,
      "metadata": {
        "id": "ECADHcNlepwN",
        "colab": {
          "base_uri": "https://localhost:8080/"
        },
        "outputId": "57b3947f-4be9-4f0b-89a1-2126f621c385"
      },
      "outputs": [
        {
          "output_type": "stream",
          "name": "stdout",
          "text": [
            "Hello World!\n"
          ]
        }
      ],
      "source": [
        "print(\"Hello World!\")"
      ]
    },
    {
      "cell_type": "markdown",
      "source": [
        "---"
      ],
      "metadata": {
        "id": "pf4x66c8lS6V"
      }
    },
    {
      "cell_type": "markdown",
      "source": [
        "## 1. Function"
      ],
      "metadata": {
        "id": "R0GcWij4QI5Y"
      }
    },
    {
      "cell_type": "markdown",
      "source": [
        "Function"
      ],
      "metadata": {
        "id": "HOKiZ7YEQN9U"
      }
    },
    {
      "cell_type": "code",
      "source": [
        "def greet(name: object) -> object:\n",
        "    \"\"\"This function greets a person by name.\"\"\"\n",
        "    print(\"Hello, \" + name + \"!\")\n",
        "\n",
        "# Call the greet function with a name\n",
        "greet(\"Rendy\")"
      ],
      "metadata": {
        "colab": {
          "base_uri": "https://localhost:8080/"
        },
        "id": "sdeWbi0oQTXe",
        "outputId": "c4f33a0c-e6c1-4bec-ee18-2010235c1e85"
      },
      "execution_count": 1,
      "outputs": [
        {
          "output_type": "stream",
          "name": "stdout",
          "text": [
            "Hello, Rendy!\n"
          ]
        }
      ]
    },
    {
      "cell_type": "markdown",
      "source": [
        "\n",
        "\n",
        "---\n",
        "\n"
      ],
      "metadata": {
        "id": "-ekCsSkCQXEj"
      }
    },
    {
      "cell_type": "markdown",
      "source": [
        "## 2. Data Type"
      ],
      "metadata": {
        "id": "G_4YB18lQlbI"
      }
    },
    {
      "cell_type": "markdown",
      "source": [
        "Data Type"
      ],
      "metadata": {
        "id": "Ov8fFntYQozz"
      }
    },
    {
      "cell_type": "code",
      "source": [
        "# Numeric data types\n",
        "age = 30  # Integer (int)\n",
        "price = 19.99  # Float (float)\n",
        "\n",
        "# Textual data type\n",
        "name = \"Amanda\"  # String (str)\n",
        "\n",
        "# Boolean data type\n",
        "is_registered = True  # Boolean (bool)\n",
        "\n",
        "# Collection data types\n",
        "fruits = [\"apple\", \"cherry\", \"lime\"]  # List (list)\n",
        "customer = {  # Dictionary (dict)\n",
        "    \"name\": \"Rendy\",\n",
        "    \"age\": 30,\n",
        "    \"city\": \"New York\"\n",
        "}\n",
        "\n",
        "# Accessing elements in collections\n",
        "first_fruit = fruits[0]  # Accessing first element in list\n",
        "customer_name = customer[\"name\"]  # Accessing value by key in dictionary\n",
        "\n",
        "# Printing data and data types\n",
        "print(\"Age:\", age, \" (type:\", type(age), \")\")\n",
        "print(\"Price:\", price, \" (type:\", type(price), \")\")\n",
        "print(\"Name:\", name, \" (type:\", type(name), \")\")\n",
        "print(\"Registered:\", is_registered, \" (type:\", type(is_registered), \")\")\n",
        "print(\"First fruit:\", first_fruit)\n",
        "print(\"Customer name:\", customer_name)"
      ],
      "metadata": {
        "colab": {
          "base_uri": "https://localhost:8080/"
        },
        "id": "Tvaj6IJyQrt0",
        "outputId": "8b5136d7-f270-4307-c5a0-e59de917f1ce"
      },
      "execution_count": 2,
      "outputs": [
        {
          "output_type": "stream",
          "name": "stdout",
          "text": [
            "Age: 30  (type: <class 'int'> )\n",
            "Price: 19.99  (type: <class 'float'> )\n",
            "Name: Amanda  (type: <class 'str'> )\n",
            "Registered: True  (type: <class 'bool'> )\n",
            "First fruit: apple\n",
            "Customer name: Rendy\n"
          ]
        }
      ]
    },
    {
      "cell_type": "markdown",
      "source": [
        "\n",
        "\n",
        "---\n",
        "\n"
      ],
      "metadata": {
        "id": "kiteWE1YfESF"
      }
    },
    {
      "cell_type": "markdown",
      "source": [
        "## 3. Variables"
      ],
      "metadata": {
        "id": "7MAEAVDXfFlg"
      }
    },
    {
      "cell_type": "markdown",
      "source": [
        "Variables"
      ],
      "metadata": {
        "id": "R1QadJUzfUcK"
      }
    },
    {
      "cell_type": "code",
      "source": [
        "# String variable\n",
        "name = \"Amanda\"\n",
        "\n",
        "# Integer variable\n",
        "age = 30\n",
        "\n",
        "# Float variable (decimal number)\n",
        "height = 1.75\n",
        "\n",
        "# Boolean variable (True or False)\n",
        "is_happy = True\n",
        "\n",
        "# Print the variables\n",
        "print(\"Name:\", name)\n",
        "print(\"Age:\", age)\n",
        "print(\"Height (in meters):\", height)\n",
        "print(\"Is happy:\", is_happy)"
      ],
      "metadata": {
        "colab": {
          "base_uri": "https://localhost:8080/"
        },
        "id": "5FM60FpKfXQS",
        "outputId": "bd754875-c5f4-49c8-afd6-3e9ba6a9a51a"
      },
      "execution_count": 3,
      "outputs": [
        {
          "output_type": "stream",
          "name": "stdout",
          "text": [
            "Name: Amanda\n",
            "Age: 30\n",
            "Height (in meters): 1.75\n",
            "Is happy: True\n"
          ]
        }
      ]
    },
    {
      "cell_type": "markdown",
      "source": [
        "\n",
        "\n",
        "---\n",
        "\n"
      ],
      "metadata": {
        "id": "Cp2I68jlfO-F"
      }
    },
    {
      "cell_type": "markdown",
      "source": [
        "## 4. Arithmetic Operators"
      ],
      "metadata": {
        "id": "1cG0UFZOfgX-"
      }
    },
    {
      "cell_type": "markdown",
      "source": [
        "1. Addition"
      ],
      "metadata": {
        "id": "qH0V7pjAlORG"
      }
    },
    {
      "cell_type": "code",
      "source": [
        "# Get two numbers from the user\n",
        "num1 = float(input(\"Enter the first number= \"))\n",
        "num2 = float(input(\"Enter the second number= \"))\n",
        "\n",
        "# Perform Arithmetic Operation - Addition\n",
        "sum = num1 + num2\n",
        "\n",
        "# Print the results\n",
        "print(\"Sum:\", sum)"
      ],
      "metadata": {
        "colab": {
          "base_uri": "https://localhost:8080/"
        },
        "id": "smkr-MWB1usC",
        "outputId": "c472b55c-1f8a-4961-fd47-ed7fd199777f"
      },
      "execution_count": 4,
      "outputs": [
        {
          "output_type": "stream",
          "name": "stdout",
          "text": [
            "Enter the first number= 1\n",
            "Enter the second number= 4\n",
            "Sum: 5.0\n"
          ]
        }
      ]
    },
    {
      "cell_type": "markdown",
      "source": [
        "\n",
        "\n",
        "---\n",
        "\n"
      ],
      "metadata": {
        "id": "wdPMPeL9lxTs"
      }
    },
    {
      "cell_type": "markdown",
      "source": [
        "2. Substraction"
      ],
      "metadata": {
        "id": "Kt81VY6Al1_6"
      }
    },
    {
      "cell_type": "code",
      "source": [
        "# Get two numbers from the user\n",
        "num1 = float(input(\"Enter the first number= \"))\n",
        "num2 = float(input(\"Enter the second number= \"))\n",
        "\n",
        "# Perform Arithmetic Operation - Substraction\n",
        "difference = num1 - num2\n",
        "\n",
        "# Print the results\n",
        "print(\"Difference:\", difference)"
      ],
      "metadata": {
        "colab": {
          "base_uri": "https://localhost:8080/"
        },
        "id": "q4HQeQcN23Cd",
        "outputId": "0f973ba3-40df-4c5c-f911-5994e7e4179c"
      },
      "execution_count": null,
      "outputs": [
        {
          "output_type": "stream",
          "name": "stdout",
          "text": [
            "Enter the first number= 7\n",
            "Enter the second number= 5\n",
            "Difference: 2.0\n"
          ]
        }
      ]
    },
    {
      "cell_type": "markdown",
      "source": [
        "\n",
        "\n",
        "---\n",
        "\n"
      ],
      "metadata": {
        "id": "lJvjafsFl8XX"
      }
    },
    {
      "cell_type": "markdown",
      "source": [
        "3. Multiplication"
      ],
      "metadata": {
        "id": "oRjQK-aJl-ku"
      }
    },
    {
      "cell_type": "code",
      "source": [
        "# Get two numbers from the user\n",
        "num1 = float(input(\"Enter the first number= \"))\n",
        "num2 = float(input(\"Enter the second number= \"))\n",
        "\n",
        "# Perform Arithmetic Operation - Multiplication\n",
        "product = num1 * num2\n",
        "\n",
        "# Print the results\n",
        "print(\"Product:\", product)"
      ],
      "metadata": {
        "colab": {
          "base_uri": "https://localhost:8080/"
        },
        "id": "hpqM9O0jZIpd",
        "outputId": "052404a1-b768-446d-8606-69bf82286f41"
      },
      "execution_count": 5,
      "outputs": [
        {
          "output_type": "stream",
          "name": "stdout",
          "text": [
            "Enter the first number= 4\n",
            "Enter the second number= 5\n",
            "Product: 20.0\n"
          ]
        }
      ]
    },
    {
      "cell_type": "markdown",
      "source": [
        "\n",
        "\n",
        "---\n",
        "\n"
      ],
      "metadata": {
        "id": "ewJmIYcAmGoJ"
      }
    },
    {
      "cell_type": "markdown",
      "source": [
        "4. Division"
      ],
      "metadata": {
        "id": "gw_OTb_TmH_J"
      }
    },
    {
      "cell_type": "code",
      "source": [
        "# Get two numbers from the user\n",
        "num1 = float(input(\"Enter the first number= \"))\n",
        "num2 = float(input(\"Enter the second number= \"))\n",
        "\n",
        "# Perform Arithmetic Operation - Division\n",
        "division = num1 / num2\n",
        "\n",
        "# Print the results\n",
        "print(\"Division:\", division)"
      ],
      "metadata": {
        "colab": {
          "base_uri": "https://localhost:8080/"
        },
        "id": "x87G6QckZU4v",
        "outputId": "1e601927-982e-45df-d328-1ca6cadf2f56"
      },
      "execution_count": null,
      "outputs": [
        {
          "output_type": "stream",
          "name": "stdout",
          "text": [
            "Enter the first number= 12\n",
            "Enter the second number= 3\n",
            "Division: 4.0\n"
          ]
        }
      ]
    },
    {
      "cell_type": "markdown",
      "source": [
        "\n",
        "\n",
        "---\n",
        "\n"
      ],
      "metadata": {
        "id": "6UNH7QeChmQY"
      }
    },
    {
      "cell_type": "markdown",
      "source": [
        "5. Modulo"
      ],
      "metadata": {
        "id": "Fhy76Aq0msk1"
      }
    },
    {
      "cell_type": "code",
      "source": [
        "# Get two numbers from the user\n",
        "num1 = float(input(\"Enter the first number= \"))\n",
        "num2 = float(input(\"Enter the second number= \"))\n",
        "\n",
        "# Perform Arithmetic Operation - Modulo (remainder)\n",
        "remainder = num1 % num2\n",
        "\n",
        "# Print the results\n",
        "print(\"Remainder:\", remainder)"
      ],
      "metadata": {
        "colab": {
          "base_uri": "https://localhost:8080/"
        },
        "id": "UHP1JaNljUz6",
        "outputId": "e20910e5-4942-419b-ba44-11c2184ec670"
      },
      "execution_count": null,
      "outputs": [
        {
          "output_type": "stream",
          "name": "stdout",
          "text": [
            "Enter the first number= 24\n",
            "Enter the second number= 6\n",
            "Remainder: 0.0\n"
          ]
        }
      ]
    },
    {
      "cell_type": "markdown",
      "source": [
        "\n",
        "\n",
        "---\n",
        "\n"
      ],
      "metadata": {
        "id": "HbLSFlpngcV5"
      }
    },
    {
      "cell_type": "markdown",
      "source": [
        "6. Exponentiation"
      ],
      "metadata": {
        "id": "-h9ig02gm38i"
      }
    },
    {
      "cell_type": "code",
      "source": [
        "# Get two numbers from the user\n",
        "num1 = float(input(\"Enter the first number= \"))\n",
        "num2 = float(input(\"Enter the second number= \"))\n",
        "\n",
        "# Perform Arithmetic Operation - Exponentiation (Power)\n",
        "power = num1 ** num2\n",
        "\n",
        "# Print the results\n",
        "print(\"Power:\", power)"
      ],
      "metadata": {
        "colab": {
          "base_uri": "https://localhost:8080/"
        },
        "id": "PFFVdkylkXNH",
        "outputId": "41481d7c-f8a2-4d6e-81e5-c1badc47b9ea"
      },
      "execution_count": null,
      "outputs": [
        {
          "output_type": "stream",
          "name": "stdout",
          "text": [
            "Enter the first number= 4\n",
            "Enter the second number= 2\n",
            "Power: 16.0\n"
          ]
        }
      ]
    },
    {
      "cell_type": "markdown",
      "source": [
        "\n",
        "\n",
        "---\n",
        "\n"
      ],
      "metadata": {
        "id": "nyk0Oyt4nERt"
      }
    },
    {
      "cell_type": "markdown",
      "source": [
        "7. **Floor Division**"
      ],
      "metadata": {
        "id": "Fx9zcRnKnFWs"
      }
    },
    {
      "cell_type": "code",
      "source": [
        "# Get two numbers from the user\n",
        "num1 = float(input(\"Enter the first number= \"))\n",
        "num2 = float(input(\"Enter the second number= \"))\n",
        "\n",
        "# Perform Arithmetic Operation - Floor Division (integral Division)\n",
        "floor_division = num1 // num2\n",
        "\n",
        "# Print the results\n",
        "print(\"Floor Division:\", floor_division)"
      ],
      "metadata": {
        "colab": {
          "base_uri": "https://localhost:8080/"
        },
        "id": "NmOOIWUikkRx",
        "outputId": "708283ec-dcd6-47e6-d51b-ec6bb059787b"
      },
      "execution_count": null,
      "outputs": [
        {
          "output_type": "stream",
          "name": "stdout",
          "text": [
            "Enter the first number= 27\n",
            "Enter the second number= 3\n",
            "Floor Division: 9.0\n"
          ]
        }
      ]
    },
    {
      "cell_type": "markdown",
      "source": [
        "\n",
        "\n",
        "---\n",
        "\n"
      ],
      "metadata": {
        "id": "2ZWyrtdenkFj"
      }
    },
    {
      "cell_type": "markdown",
      "source": [
        "## 5. Conditional"
      ],
      "metadata": {
        "id": "ppUwSe_Tgj4w"
      }
    },
    {
      "cell_type": "markdown",
      "source": [
        "1. Same As"
      ],
      "metadata": {
        "id": "wYP60jJ9gnMK"
      }
    },
    {
      "cell_type": "code",
      "source": [
        "age = 20\n",
        "if age >= 18:\n",
        "  adult = True\n",
        "else:\n",
        "  adult = False\n",
        "\n",
        "print(f\"Is adult: {adult}\")"
      ],
      "metadata": {
        "colab": {
          "base_uri": "https://localhost:8080/"
        },
        "id": "9qs3aPYkgxoL",
        "outputId": "465f76d8-688d-444f-b8df-73dda13af419"
      },
      "execution_count": 6,
      "outputs": [
        {
          "output_type": "stream",
          "name": "stdout",
          "text": [
            "Is adult: True\n"
          ]
        }
      ]
    },
    {
      "cell_type": "markdown",
      "source": [
        "\n",
        "\n",
        "---\n",
        "\n"
      ],
      "metadata": {
        "id": "BOlSS6_Wha-G"
      }
    },
    {
      "cell_type": "markdown",
      "source": [
        "2. Not The Same As"
      ],
      "metadata": {
        "id": "6ZbDoZrFgtjn"
      }
    },
    {
      "cell_type": "code",
      "source": [
        "x = 5\n",
        "y = 10\n",
        "\n",
        "if x != y:\n",
        "    print(\"x and y are not equal\")\n",
        "else:\n",
        "    print(\"x and y are equal\")"
      ],
      "metadata": {
        "colab": {
          "base_uri": "https://localhost:8080/"
        },
        "id": "mr2RhyGnibJM",
        "outputId": "642aa26b-f436-4937-f547-530930a9419a"
      },
      "execution_count": 7,
      "outputs": [
        {
          "output_type": "stream",
          "name": "stdout",
          "text": [
            "x and y are not equal\n"
          ]
        }
      ]
    },
    {
      "cell_type": "markdown",
      "source": [
        "\n",
        "\n",
        "---\n",
        "\n"
      ],
      "metadata": {
        "id": "udOCcY7eibte"
      }
    },
    {
      "cell_type": "markdown",
      "source": [
        "3. Less Than"
      ],
      "metadata": {
        "id": "dcaSyHc0g5yY"
      }
    },
    {
      "cell_type": "code",
      "source": [
        "x = 10\n",
        "y = 5\n",
        "\n",
        "if x < y:\n",
        "  print(\"x is less than y\")\n",
        "else:\n",
        "  print(\"x is not less than y\")"
      ],
      "metadata": {
        "colab": {
          "base_uri": "https://localhost:8080/"
        },
        "id": "pFLmS-MnieLC",
        "outputId": "3b00cfcf-4609-414d-da30-911b5f0383b8"
      },
      "execution_count": 8,
      "outputs": [
        {
          "output_type": "stream",
          "name": "stdout",
          "text": [
            "x is not less than y\n"
          ]
        }
      ]
    },
    {
      "cell_type": "markdown",
      "source": [
        "\n",
        "\n",
        "---\n",
        "\n"
      ],
      "metadata": {
        "id": "TIeqQXpjiezR"
      }
    },
    {
      "cell_type": "markdown",
      "source": [
        "4. Less Than Equal To"
      ],
      "metadata": {
        "id": "a5XOmotkhNLT"
      }
    },
    {
      "cell_type": "code",
      "source": [
        "x = 5\n",
        "y = 10\n",
        "\n",
        "if x <= y:\n",
        "  print(\"x is less than or equal to y\")"
      ],
      "metadata": {
        "colab": {
          "base_uri": "https://localhost:8080/"
        },
        "id": "5_ih95aaihtb",
        "outputId": "d7354cce-293e-48ed-837a-6f259dcab12a"
      },
      "execution_count": 9,
      "outputs": [
        {
          "output_type": "stream",
          "name": "stdout",
          "text": [
            "x is less than or equal to y\n"
          ]
        }
      ]
    },
    {
      "cell_type": "markdown",
      "source": [
        "\n",
        "\n",
        "---\n",
        "\n"
      ],
      "metadata": {
        "id": "q4ToVdZDigdS"
      }
    },
    {
      "cell_type": "markdown",
      "source": [
        "5. More Than"
      ],
      "metadata": {
        "id": "4RrhDHUAhP2A"
      }
    },
    {
      "cell_type": "code",
      "source": [
        "num = 5\n",
        "\n",
        "if num > 0:\n",
        "  print(\"The number is positive.\")\n",
        "else:\n",
        "  print(\"The number is not positive.\")"
      ],
      "metadata": {
        "colab": {
          "base_uri": "https://localhost:8080/"
        },
        "id": "1xvdyaGdijpu",
        "outputId": "9b9c1098-0e01-4b4f-eb42-b1b79fcf7190"
      },
      "execution_count": 10,
      "outputs": [
        {
          "output_type": "stream",
          "name": "stdout",
          "text": [
            "The number is positive.\n"
          ]
        }
      ]
    },
    {
      "cell_type": "markdown",
      "source": [
        "\n",
        "\n",
        "---\n",
        "\n"
      ],
      "metadata": {
        "id": "qlBND2JhikaB"
      }
    },
    {
      "cell_type": "markdown",
      "source": [
        "6. More Than Equal To"
      ],
      "metadata": {
        "id": "lCz1kaHUhT2u"
      }
    },
    {
      "cell_type": "code",
      "source": [
        "grade = 75\n",
        "\n",
        "if grade >= 60:\n",
        "  print(\"You passed the class!\")\n",
        "else:\n",
        "  print(\"You did not pass the class.\")"
      ],
      "metadata": {
        "colab": {
          "base_uri": "https://localhost:8080/"
        },
        "id": "-QOFNJRtinDr",
        "outputId": "785d45c0-667a-4087-d1a4-088d900e232a"
      },
      "execution_count": 11,
      "outputs": [
        {
          "output_type": "stream",
          "name": "stdout",
          "text": [
            "You passed the class!\n"
          ]
        }
      ]
    },
    {
      "cell_type": "markdown",
      "source": [
        "\n",
        "\n",
        "---\n",
        "\n"
      ],
      "metadata": {
        "id": "qI2snrA4inoV"
      }
    },
    {
      "cell_type": "markdown",
      "source": [
        "## 6. Statement"
      ],
      "metadata": {
        "id": "nXgMiUBRh4OW"
      }
    },
    {
      "cell_type": "markdown",
      "source": [
        "1. And"
      ],
      "metadata": {
        "id": "KbsUr8Inh-Sp"
      }
    },
    {
      "cell_type": "code",
      "source": [
        "a = 200\n",
        "b = 33\n",
        "c = 500\n",
        "if a > b and c > a:\n",
        "    print(\"Both condition are True\")"
      ],
      "metadata": {
        "colab": {
          "base_uri": "https://localhost:8080/"
        },
        "id": "DFUpc2JxirqQ",
        "outputId": "b306a811-d2f0-4db5-cee1-184c84b16d53"
      },
      "execution_count": 12,
      "outputs": [
        {
          "output_type": "stream",
          "name": "stdout",
          "text": [
            "Both condition are True\n"
          ]
        }
      ]
    },
    {
      "cell_type": "markdown",
      "source": [
        "\n",
        "\n",
        "---\n",
        "\n"
      ],
      "metadata": {
        "id": "0mvnXuS8isSz"
      }
    },
    {
      "cell_type": "markdown",
      "source": [
        "2. Nested If"
      ],
      "metadata": {
        "id": "fdJfDui5iBMC"
      }
    },
    {
      "cell_type": "code",
      "source": [
        "x = 41\n",
        "\n",
        "if x > 10:\n",
        "    print(\"Above ten,\")\n",
        "    if x > 20:\n",
        "        print(\"also above 20!\")\n",
        "    else:\n",
        "        print(\"but not above 20\")"
      ],
      "metadata": {
        "colab": {
          "base_uri": "https://localhost:8080/"
        },
        "id": "jO1bJfuMityi",
        "outputId": "8ada5ca0-9d14-496b-a453-468be2408257"
      },
      "execution_count": 13,
      "outputs": [
        {
          "output_type": "stream",
          "name": "stdout",
          "text": [
            "Above ten,\n",
            "also above 20!\n"
          ]
        }
      ]
    },
    {
      "cell_type": "markdown",
      "source": [
        "\n",
        "\n",
        "---\n",
        "\n"
      ],
      "metadata": {
        "id": "OcO2HGXbiuVk"
      }
    },
    {
      "cell_type": "markdown",
      "source": [
        "3. If"
      ],
      "metadata": {
        "id": "VHYgrCU_iDaf"
      }
    },
    {
      "cell_type": "code",
      "source": [
        "a = 50\n",
        "b = 50\n",
        "\n",
        "if b > a:\n",
        "    print(\"b is greater than a\")\n",
        "elif a == b:\n",
        "    print(\"a and b are equal\")\n",
        "else:\n",
        "    print(\"a is greater than b\")"
      ],
      "metadata": {
        "colab": {
          "base_uri": "https://localhost:8080/"
        },
        "id": "XfVD1RCOivv5",
        "outputId": "6574cd74-f2e8-414e-9c3c-c343cffd27be"
      },
      "execution_count": 14,
      "outputs": [
        {
          "output_type": "stream",
          "name": "stdout",
          "text": [
            "a and b are equal\n"
          ]
        }
      ]
    },
    {
      "cell_type": "markdown",
      "source": [
        "\n",
        "\n",
        "---\n",
        "\n"
      ],
      "metadata": {
        "id": "SFRW9zlbiwGn"
      }
    }
  ]
}