{
  "nbformat": 4,
  "nbformat_minor": 0,
  "metadata": {
    "colab": {
      "provenance": []
    },
    "kernelspec": {
      "name": "python3",
      "display_name": "Python 3"
    },
    "language_info": {
      "name": "python"
    }
  },
  "cells": [
    {
      "cell_type": "markdown",
      "source": [
        "# **TASK | D3 [20240323] - Introduction to Python**"
      ],
      "metadata": {
        "id": "K2jecAU9iV7R"
      }
    },
    {
      "cell_type": "markdown",
      "source": [
        "### 1. Buatlah sebuah program Python yang mengkonversi suhu dari Celcius (float) ke Fahrenheit (float):"
      ],
      "metadata": {
        "id": "DGQPjL-sQ90w"
      }
    },
    {
      "cell_type": "code",
      "execution_count": null,
      "metadata": {
        "colab": {
          "base_uri": "https://localhost:8080/"
        },
        "id": "cc6OZBoHgNf1",
        "outputId": "37f8440b-ef38-4a86-d072-1be8327554e7"
      },
      "outputs": [
        {
          "output_type": "stream",
          "name": "stdout",
          "text": [
            "Masukkan suhu Celcius: 75\n",
            "75.0 derajat Celcius sama dengan 167.0 derajat Fahrenheit.\n"
          ]
        }
      ],
      "source": [
        "def celcius_ke_fahrenheit(celcius):\n",
        "  \"\"\"\n",
        "  Mengkonversi suhu dari Celcius ke Fahrenheit.\n",
        "\n",
        "  Args:\n",
        "    celcius: Suhu dalam Celcius (float).\n",
        "\n",
        "  Returns:\n",
        "    Suhu dalam Fahrenheit (float).\n",
        "  \"\"\"\n",
        "\n",
        "  fahrenheit = (celcius * 9/5) + 32\n",
        "  return fahrenheit\n",
        "\n",
        "# Input suhu Celcius\n",
        "celcius = float(input(\"Masukkan suhu Celcius: \"))\n",
        "\n",
        "# Konversi Celcius ke Fahrenheit\n",
        "fahrenheit = celcius_ke_fahrenheit(celcius)\n",
        "\n",
        "# Print hasil konversi\n",
        "print(f\"{celcius} derajat Celcius = {fahrenheit} derajat Fahrenheit.\")"
      ]
    },
    {
      "cell_type": "markdown",
      "source": [
        "---"
      ],
      "metadata": {
        "id": "PHS42eObqdBi"
      }
    },
    {
      "cell_type": "markdown",
      "source": [
        "### 2. Buatlah sebuah program Python yang meminta pengguna untuk memasukkan sebuah bilangan bulat. Program tersebut harus mencetak apakah bilangan tersebut ganjil atau genap."
      ],
      "metadata": {
        "id": "drT1dexVqVsC"
      }
    },
    {
      "cell_type": "code",
      "source": [
        "# Meminta pengguna memasukkan bilangan bulat\n",
        "bilangan = int(input(\"Masukkan bilangan bulat: \"))\n",
        "\n",
        "# Memeriksa apakah bilangan ganjil atau genap\n",
        "if bilangan % 2 == 0:\n",
        "  print(f\"Bilangan {bilangan} adalah bilangan genap.\")\n",
        "else:\n",
        "  print(f\"Bilangan {bilangan} adalah bilangan ganjil.\")"
      ],
      "metadata": {
        "colab": {
          "base_uri": "https://localhost:8080/"
        },
        "id": "TGHPiOQdqa-G",
        "outputId": "2b28fa2f-d2e7-47dd-8901-37c3a8878098"
      },
      "execution_count": null,
      "outputs": [
        {
          "output_type": "stream",
          "name": "stdout",
          "text": [
            "Masukkan bilangan bulat: 23\n",
            "Bilangan 23 adalah bilangan ganjil.\n"
          ]
        }
      ]
    },
    {
      "cell_type": "markdown",
      "source": [
        "\n",
        "\n",
        "---\n",
        "\n"
      ],
      "metadata": {
        "id": "pxgMM8wouKw_"
      }
    }
  ]
}